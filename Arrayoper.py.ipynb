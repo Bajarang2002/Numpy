{
 "cells": [
  {
   "cell_type": "code",
   "execution_count": 4,
   "id": "03f5dd72",
   "metadata": {},
   "outputs": [],
   "source": [
    "# Array operation\n",
    "# Sum Operation\n",
    "import numpy as np"
   ]
  },
  {
   "cell_type": "code",
   "execution_count": 8,
   "id": "9428fe51",
   "metadata": {},
   "outputs": [
    {
     "name": "stdout",
     "output_type": "stream",
     "text": [
      "[12 14 16 18 19 45]\n",
      "124\n"
     ]
    }
   ],
   "source": [
    "import numpy as np\n",
    "w = np.array([12,14,16,18,19,45])\n",
    "print(w)\n",
    "print(w.sum())\n"
   ]
  },
  {
   "cell_type": "code",
   "execution_count": 14,
   "id": "157f79d2",
   "metadata": {},
   "outputs": [
    {
     "name": "stdout",
     "output_type": "stream",
     "text": [
      "[[1 2]\n",
      " [3 2]]\n",
      "[4 4]\n",
      "[3 5]\n"
     ]
    }
   ],
   "source": [
    "p1 = np.array([[1,2],[3,2]])\n",
    "print(p1)\n",
    "print(p1.sum(axis =0)) #axis =0 columnwise\n",
    "print(p1.sum(axis =1))  #axis =1 rowwise"
   ]
  },
  {
   "cell_type": "code",
   "execution_count": 5,
   "id": "81da5750",
   "metadata": {},
   "outputs": [
    {
     "name": "stdout",
     "output_type": "stream",
     "text": [
      "[ 1  2  5 67 45 90 78 34  5  6 89 23]\n",
      "1\n",
      "90\n",
      "1\n",
      "90\n"
     ]
    }
   ],
   "source": [
    "# Min max operation\n",
    "a1 = np.array([1,2,5,67,45,90,78,34,5,6,89,23])\n",
    "print(a1)\n",
    "print(a1.min())\n",
    "print(a1.max())\n",
    "print(np.min(a1))\n",
    "print(np.max(a1))"
   ]
  },
  {
   "cell_type": "code",
   "execution_count": 12,
   "id": "4cf8912c",
   "metadata": {},
   "outputs": [
    {
     "name": "stdout",
     "output_type": "stream",
     "text": [
      "[[10 11 12 13]\n",
      " [14 15 16 17]\n",
      " [18 19 20 21]]\n"
     ]
    }
   ],
   "source": [
    "p1 = np.arange(10,22).reshape(3,4)\n",
    "print(p1)\n"
   ]
  },
  {
   "cell_type": "markdown",
   "id": "46ea45e7",
   "metadata": {},
   "source": []
  },
  {
   "cell_type": "code",
   "execution_count": 6,
   "id": "4f926ae5",
   "metadata": {},
   "outputs": [
    {
     "name": "stdout",
     "output_type": "stream",
     "text": [
      "[[10 11 12 13]\n",
      " [14 15 16 17]\n",
      " [18 19 20 21]]\n",
      "[10 11 12 13]\n",
      "[10 11 12 13]\n",
      "[10 14 18]\n",
      "[18 19 20 21]\n",
      "[13 17 21]\n"
     ]
    }
   ],
   "source": [
    "p1 = np.arange(10,22).reshape(3,4)\n",
    "print(p1)\n",
    "print(p1.min(axis=0))\n",
    "print(np.min(p1,axis=0))\n",
    "print(np.min(p1,axis =1))\n",
    "print(np.max(p1,axis=0))\n",
    "print(np.max(p1,axis =1))"
   ]
  },
  {
   "cell_type": "code",
   "execution_count": 18,
   "id": "e3285b4a",
   "metadata": {},
   "outputs": [
    {
     "name": "stdout",
     "output_type": "stream",
     "text": [
      "[ 1  2  5 67 45 90 78 34  5  6 89 23]\n",
      "0\n",
      "5\n"
     ]
    }
   ],
   "source": [
    "# argmin argmax operation\n",
    "\n",
    "a1 = np.array([1,2,5,67,45,90,78,34,5,6,89,23])\n",
    "print(a1)\n",
    "print(np.argmin(a1))\n",
    "print(np.argmax(a1))"
   ]
  },
  {
   "cell_type": "code",
   "execution_count": 9,
   "id": "042ff27b",
   "metadata": {},
   "outputs": [
    {
     "name": "stdout",
     "output_type": "stream",
     "text": [
      "[ 1  2  5 67 45 90 78 34  5  6 89 23]\n",
      "Maximum value is: 90\n",
      "Minimum value is: 1\n"
     ]
    }
   ],
   "source": [
    "a1 = np.array([1,2,5,67,45,90,78,34,5,6,89,23])\n",
    "print(a1)  \n",
    "min_value = a1[np.argmin(a1)]\n",
    "max_value = a1[np.argmax(a1)]\n",
    "print(\"Maximum value is:\",max_value)\n",
    "print(\"Minimum value is:\",min_value)"
   ]
  },
  {
   "cell_type": "code",
   "execution_count": 19,
   "id": "0f82279f",
   "metadata": {},
   "outputs": [
    {
     "name": "stdout",
     "output_type": "stream",
     "text": [
      "[[10 11 12 13]\n",
      " [14 15 16 17]\n",
      " [18 19 20 21]]\n",
      "[0 0 0 0]\n",
      "[0 0 0]\n",
      "[2 2 2 2]\n",
      "[3 3 3]\n"
     ]
    }
   ],
   "source": [
    "p1 = np.arange(10,22).reshape(3,4)\n",
    "print(p1)\n",
    "print(np.argmin(p1,axis=0))\n",
    "print(np.argmin(p1,axis =1))\n",
    "print(np.argmax(p1,axis=0))\n",
    "print(np.argmax(p1,axis =1))"
   ]
  },
  {
   "cell_type": "code",
   "execution_count": 11,
   "id": "39003bba",
   "metadata": {},
   "outputs": [
    {
     "name": "stdout",
     "output_type": "stream",
     "text": [
      "[12  4 47  3  0 20 18 56 24 23 10]\n",
      "[ 0  3  4 10 12 18 20 23 24 47 56]\n"
     ]
    }
   ],
   "source": [
    "#Sort operation\n",
    "import numpy as np\n",
    "p1 = np.array([12,4,47,3,0,20,18,56,24,23,10])\n",
    "print(p1)\n",
    "r1 = np.sort(p1)\n",
    "print(r1)"
   ]
  },
  {
   "cell_type": "code",
   "execution_count": 16,
   "id": "4256ec62",
   "metadata": {},
   "outputs": [
    {
     "name": "stdout",
     "output_type": "stream",
     "text": [
      "[12  4 47  3  0 20 18 56 24 23 10]\n",
      "[ 0  3  4 10 12 18 20 23 24 47 56]\n",
      "[56 47 24 23 20 18 12 10  4  3  0]\n"
     ]
    }
   ],
   "source": [
    "p1 = np.array([12,4,47,3,0,20,18,56,24,23,10])\n",
    "print(p1)\n",
    "r1 =np.sort(p1) # ascending order\n",
    "print(r1)\n",
    "r2 =np.sort(r1)[::-1] #desending order\n",
    "print(r2)"
   ]
  },
  {
   "cell_type": "code",
   "execution_count": 20,
   "id": "0d70ae77",
   "metadata": {},
   "outputs": [
    {
     "name": "stdout",
     "output_type": "stream",
     "text": [
      "[[11 21 18]\n",
      " [25 35 16]\n",
      " [ 7 14  3]]\n"
     ]
    }
   ],
   "source": [
    "p1 = np.array([[11,21,18],[25,35,16],[7,14,3]])\n",
    "print(p1)\n"
   ]
  },
  {
   "cell_type": "code",
   "execution_count": 22,
   "id": "f3ba5886",
   "metadata": {},
   "outputs": [
    {
     "name": "stdout",
     "output_type": "stream",
     "text": [
      "[[11 21 18]\n",
      " [25 35 16]\n",
      " [ 7 14  3]]\n",
      "[[11 21 18]\n",
      " [25 35 16]\n",
      " [ 7 14  3]]\n",
      "[[ 7 14  3]\n",
      " [11 21 16]\n",
      " [25 35 18]]\n",
      "[[11 18 21]\n",
      " [16 25 35]\n",
      " [ 3  7 14]]\n",
      "[[25 35 18]\n",
      " [11 21 16]\n",
      " [ 7 14  3]]\n",
      "[[ 3  7 14]\n",
      " [16 25 35]\n",
      " [11 18 21]]\n",
      "[[ 7 14  3]\n",
      " [11 21 16]\n",
      " [25 35 18]]\n",
      "[[11 18 21]\n",
      " [16 25 35]\n",
      " [ 3  7 14]]\n"
     ]
    }
   ],
   "source": [
    "p1 = np.array([[11,21,18],[25,35,16],[7,14,3]])\n",
    "print(p1)\n",
    "r1 = np.sort(p1,axis=0)\n",
    "r2 = np.sort(p1,axis =1)\n",
    "p1 = np.array([[11,21,18],[25,35,16],[7,14,3]])\n",
    "print(p1)\n",
    "r3= np.sort(p1,axis=0)[::-1]\n",
    "r4 = np.sort(p1,axis =1)[::-1]\n",
    "print(r1)\n",
    "print(r2)\n",
    "print(r3)\n",
    "print(r4)\n",
    "\n",
    "print(r1)\n",
    "print(r2)\n"
   ]
  },
  {
   "cell_type": "code",
   "execution_count": 29,
   "id": "093f5808",
   "metadata": {},
   "outputs": [
    {
     "name": "stdout",
     "output_type": "stream",
     "text": [
      "[10 12 15 17 18 19 20 22 21 24 25 30]\n",
      "(array([ 0,  1,  4,  6,  7,  9, 11], dtype=int64),)\n",
      "[10 12 18 20 22 24 30]\n"
     ]
    }
   ],
   "source": [
    "a1 = np.array([10,12,15,17,18,19,20,22,21,24,25,30])\n",
    "print(a1)\n",
    "m1 =np.where(a1%2==0)\n",
    "print(m1)\n",
    "print(a1[m1])"
   ]
  },
  {
   "cell_type": "code",
   "execution_count": 30,
   "id": "625a78de",
   "metadata": {},
   "outputs": [
    {
     "name": "stdout",
     "output_type": "stream",
     "text": [
      "[10 12 15 17 18 19 20 22 21 24 25 30]\n",
      "(array([0, 1, 2, 3, 4, 5], dtype=int64),)\n",
      "[10 12 15 17 18 19]\n"
     ]
    }
   ],
   "source": [
    "a1 = np.array([10,12,15,17,18,19,20,22,21,24,25,30])\n",
    "print(a1)\n",
    "m1 =np.where(a1<20)\n",
    "print(m1)\n",
    "print(a1[m1])"
   ]
  },
  {
   "cell_type": "code",
   "execution_count": 33,
   "id": "1642b781",
   "metadata": {},
   "outputs": [
    {
     "name": "stdout",
     "output_type": "stream",
     "text": [
      "[10 12 15 17 18 19 20 22 21 24 25 30]\n",
      "[15 17 20 22 23 24 40 44 42 48 50 60]\n",
      "[ 40  48   8  10  72  12  80  88  14  96  18 120]\n"
     ]
    }
   ],
   "source": [
    "a1 = np.array([10,12,15,17,18,19,20,22,21,24,25,30])\n",
    "print(a1)\n",
    "m1 = np.where(a1<20,a1+5,a1*2)\n",
    "print(m1)\n",
    "m2 = np.where(a1%2==0,a1*4,a1-7)\n",
    "print(m2)"
   ]
  },
  {
   "cell_type": "code",
   "execution_count": 19,
   "id": "7382a40a",
   "metadata": {},
   "outputs": [
    {
     "name": "stdout",
     "output_type": "stream",
     "text": [
      "[[10 12 16]\n",
      " [ 4  5  6]\n",
      " [ 8  9 10]]\n",
      "(array([0, 1, 1, 1, 2, 2, 2], dtype=int64), array([0, 0, 1, 2, 0, 1, 2], dtype=int64))\n",
      "[10  4  5  6  8  9 10]\n"
     ]
    }
   ],
   "source": [
    "p1 = np.array([[10,12,16],[4,5,6],[8,9,10]])\n",
    "print(p1)\n",
    "r1 = np.where(p1<12)\n",
    "print(r1)\n",
    "print(p1[r1])"
   ]
  },
  {
   "cell_type": "code",
   "execution_count": 20,
   "id": "02c2b66a",
   "metadata": {},
   "outputs": [
    {
     "name": "stdout",
     "output_type": "stream",
     "text": [
      "[10 12 15 17 18 19 20 22 21 24 25 30]\n",
      "[12 15 18 21 24 30]\n"
     ]
    }
   ],
   "source": [
    "a1 = np.array([10,12,15,17,18,19,20,22,21,24,25,30])\n",
    "print(a1)\n",
    "m1 = np.extract(a1%3==0,a1)\n",
    "print(m1)"
   ]
  },
  {
   "cell_type": "code",
   "execution_count": 41,
   "id": "705e20e5",
   "metadata": {
    "collapsed": true
   },
   "outputs": [
    {
     "name": "stdout",
     "output_type": "stream",
     "text": [
      "[10 12 15 17 18 19 20 22 21 24 25 30]\n",
      "[10 12 15 17 18 19 20 22 21 24 25]\n"
     ]
    }
   ],
   "source": [
    "a1 = np.array([10,12,15,17,18,19,20,22,21,24,25,30])\n",
    "print(a1)\n",
    "m1 = np.extract(a1<30,a1)\n",
    "print(m1)"
   ]
  },
  {
   "cell_type": "code",
   "execution_count": 43,
   "id": "94565ea5",
   "metadata": {},
   "outputs": [
    {
     "name": "stdout",
     "output_type": "stream",
     "text": [
      "[[10 12 16]\n",
      " [ 4  5  6]\n",
      " [ 8  9 10]]\n",
      "[4 5 6 8 9]\n"
     ]
    }
   ],
   "source": [
    "\n",
    "p1 = np.array([[10,12,16],[4,5,6],[8,9,10]])\n",
    "print(p1)\n",
    "r1 = np.extract(p1<10,p1)\n",
    "print(r1)"
   ]
  },
  {
   "cell_type": "code",
   "execution_count": 22,
   "id": "c5b713f5",
   "metadata": {},
   "outputs": [
    {
     "name": "stdout",
     "output_type": "stream",
     "text": [
      "[ 1  2  3  4  5  6  7  8  9 10]\n"
     ]
    }
   ],
   "source": [
    "z1 = np.array([1,2,3,4,5])\n",
    "z2 = np.array([6,7,8,9,10])\n",
    "r1 = np.concatenate([z1,z2])\n",
    "print(r1)"
   ]
  },
  {
   "cell_type": "code",
   "execution_count": 55,
   "id": "68c3715a",
   "metadata": {},
   "outputs": [
    {
     "name": "stdout",
     "output_type": "stream",
     "text": [
      "[[ 1  2  3  4  5]\n",
      " [ 6  7  8  9 10]]\n",
      "[[16 17 18 19 20]\n",
      " [21 22 23 24 25]]\n",
      "[[ 1  2  3  4  5]\n",
      " [ 6  7  8  9 10]\n",
      " [16 17 18 19 20]\n",
      " [21 22 23 24 25]]\n",
      "[[ 1  2  3  4  5 16 17 18 19 20]\n",
      " [ 6  7  8  9 10 21 22 23 24 25]]\n"
     ]
    }
   ],
   "source": [
    "z1 = np.array([[1,2,3,4,5],[6,7,8,9,10]])\n",
    "print(z1)\n",
    "z2 = np.array([[16,17,18,19,20],[21,22,23,24,25]])\n",
    "print(z2)\n",
    "r = np.concatenate([z1,z2],axis=0)\n",
    "print(r)\n",
    "r1 = np.concatenate([z1,z2],axis =1)\n",
    "print(r1)\n"
   ]
  },
  {
   "cell_type": "code",
   "execution_count": 24,
   "id": "2b495730",
   "metadata": {},
   "outputs": [
    {
     "name": "stdout",
     "output_type": "stream",
     "text": [
      "[1 2 3 4 5]\n",
      "[ 6  7  8  9 10]\n",
      "[ 1  2  3  4  5  6  7  8  9 10]\n",
      "[[ 1  2  3  4  5]\n",
      " [ 6  7  8  9 10]]\n"
     ]
    }
   ],
   "source": [
    "z1 = np.array([1,2,3,4,5])\n",
    "z2 = np.array([6,7,8,9,10])\n",
    "print(z1)\n",
    "print(z2)\n",
    "r = np.hstack([z1,z2])\n",
    "print(r)\n",
    "r1 = np.vstack([z1,z2])\n",
    "print(r1)"
   ]
  },
  {
   "cell_type": "code",
   "execution_count": 31,
   "id": "baa43767",
   "metadata": {},
   "outputs": [
    {
     "name": "stdout",
     "output_type": "stream",
     "text": [
      "[[ 1  2  3  4  5]\n",
      " [ 6  7  8  9 10]\n",
      " [11 12 13 14 15]\n",
      " [16 17 18 19 20]]\n",
      "[array([[ 1,  2,  3,  4,  5],\n",
      "       [ 6,  7,  8,  9, 10]]), array([[11, 12, 13, 14, 15],\n",
      "       [16, 17, 18, 19, 20]])]\n"
     ]
    }
   ],
   "source": [
    "import numpy as np\n",
    "z1 = np.array([[1,2,3,4,5],[6,7,8,9,10],[11,12,13,14,15],[16,17,18,19,20]])\n",
    "print(z1)\n",
    "p1 = np.vsplit(z1,2)\n",
    "print(p1)\n"
   ]
  },
  {
   "cell_type": "code",
   "execution_count": null,
   "id": "4c24ffcb",
   "metadata": {},
   "outputs": [],
   "source": []
  },
  {
   "cell_type": "code",
   "execution_count": null,
   "id": "3c350d87",
   "metadata": {},
   "outputs": [],
   "source": []
  }
 ],
 "metadata": {
  "kernelspec": {
   "display_name": "Python 3 (ipykernel)",
   "language": "python",
   "name": "python3"
  },
  "language_info": {
   "codemirror_mode": {
    "name": "ipython",
    "version": 3
   },
   "file_extension": ".py",
   "mimetype": "text/x-python",
   "name": "python",
   "nbconvert_exporter": "python",
   "pygments_lexer": "ipython3",
   "version": "3.11.3"
  }
 },
 "nbformat": 4,
 "nbformat_minor": 5
}
