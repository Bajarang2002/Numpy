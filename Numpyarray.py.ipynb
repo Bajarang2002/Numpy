{
 "cells": [
  {
   "cell_type": "code",
   "execution_count": 1,
   "id": "ebc1c660",
   "metadata": {},
   "outputs": [],
   "source": [
    "\n",
    "import numpy as np\n"
   ]
  },
  {
   "cell_type": "code",
   "execution_count": 12,
   "id": "76eb9fe9",
   "metadata": {},
   "outputs": [
    {
     "name": "stdout",
     "output_type": "stream",
     "text": [
      "[ 2  5  4  8  9  1 10]\n",
      "<class 'numpy.ndarray'>\n",
      "int32\n",
      "(7,)\n",
      "7\n",
      "1\n"
     ]
    }
   ],
   "source": [
    "# np.array\n",
    "w =np.array([2,5,4,8,9,1,10])\n",
    "print(w)\n",
    "print(type(w))\n",
    "print(w.dtype)\n",
    "print(w.shape)\n",
    "print(w.size)\n",
    "print(w.ndim)"
   ]
  },
  {
   "cell_type": "code",
   "execution_count": 5,
   "id": "8bf828dd",
   "metadata": {},
   "outputs": [
    {
     "name": "stdout",
     "output_type": "stream",
     "text": [
      "[5, 6, 8, 9, 7, 1]\n",
      "(10, 5, 64, 78, 9)\n",
      "[5 6 8 9 7 1]\n",
      "[10  5 64 78  9]\n"
     ]
    }
   ],
   "source": [
    "a =[5,6,8,9,7,1]\n",
    "b =(10,5,64,78,9)\n",
    "print(a)\n",
    "print(b)\n",
    "m1 = np.array(a)\n",
    "m2 = np.array(b)\n",
    "print(m1)\n",
    "print(m2)"
   ]
  },
  {
   "cell_type": "code",
   "execution_count": 14,
   "id": "7e44eecd",
   "metadata": {},
   "outputs": [
    {
     "name": "stdout",
     "output_type": "stream",
     "text": [
      "[[2 5 9 8 6 7 8 1]\n",
      " [4 5 8 9 6 3 1 4]]\n",
      "int32\n",
      "16\n",
      "(2, 8)\n",
      "2\n"
     ]
    }
   ],
   "source": [
    "w2 = np.array([[2,5,9,8,6,7,8,1],[4,5,8,9,6,3,1,4]])\n",
    "print(w2)\n",
    "print(w2.dtype)\n",
    "print(w2.size)\n",
    "print(w2.shape)\n",
    "print(w2.ndim)\n"
   ]
  },
  {
   "cell_type": "code",
   "execution_count": 13,
   "id": "9d2caed8",
   "metadata": {},
   "outputs": [
    {
     "name": "stdout",
     "output_type": "stream",
     "text": [
      "[[[ 5  6  7  9  1 20  6]\n",
      "  [ 8  9  7 56 12  5  6]]\n",
      "\n",
      " [[ 2  5  8  9  9  9 10]\n",
      "  [ 5  6  7  8  9  4  2]]]\n",
      "int32\n",
      "28\n",
      "(2, 2, 7)\n",
      "3\n"
     ]
    }
   ],
   "source": [
    "m =np.array([[[5,6,7,9,1,20,6],[8,9,7,56,12,5,6]],[[2,5,8,9,9,9,10],[5,6,7,8,9,4,2]]])\n",
    "print(m)\n",
    "print(m.dtype)\n",
    "print(m.size)\n",
    "print(m.shape)\n",
    "print(m.ndim)"
   ]
  },
  {
   "cell_type": "code",
   "execution_count": null,
   "id": "396f1098",
   "metadata": {},
   "outputs": [],
   "source": [
    "# arange"
   ]
  },
  {
   "cell_type": "code",
   "execution_count": 21,
   "id": "661c707d",
   "metadata": {},
   "outputs": [
    {
     "name": "stdout",
     "output_type": "stream",
     "text": [
      "[10 11 12 13 14 15 16 17 18 19]\n",
      "int32\n",
      "10\n",
      "(10,)\n",
      "1\n"
     ]
    }
   ],
   "source": [
    "a1 = np.arange(10,20)\n",
    "print(a1)\n",
    "print(a1.dtype)\n",
    "print(a1.size)\n",
    "print(a1.shape)\n",
    "print(a1.ndim)"
   ]
  },
  {
   "cell_type": "code",
   "execution_count": 17,
   "id": "f2ddd816",
   "metadata": {},
   "outputs": [
    {
     "name": "stdout",
     "output_type": "stream",
     "text": [
      "[ 5  7  9 11 13 15 17 19]\n"
     ]
    }
   ],
   "source": [
    "a2 = np.arange(5,20,2)\n",
    "print(a2)"
   ]
  },
  {
   "cell_type": "code",
   "execution_count": 19,
   "id": "65e461aa",
   "metadata": {},
   "outputs": [
    {
     "name": "stdout",
     "output_type": "stream",
     "text": [
      "[50 45 40 35 30 25 20 15 10  5]\n"
     ]
    }
   ],
   "source": [
    "a3 = np.arange(50,1,-5)\n",
    "print(a3)"
   ]
  },
  {
   "cell_type": "code",
   "execution_count": null,
   "id": "2181ac91",
   "metadata": {},
   "outputs": [],
   "source": [
    "# zeros"
   ]
  },
  {
   "cell_type": "code",
   "execution_count": 22,
   "id": "f4186509",
   "metadata": {},
   "outputs": [
    {
     "name": "stdout",
     "output_type": "stream",
     "text": [
      "[[0. 0. 0. 0.]\n",
      " [0. 0. 0. 0.]\n",
      " [0. 0. 0. 0.]]\n",
      "float64\n",
      "12\n",
      "(3, 4)\n",
      "2\n"
     ]
    }
   ],
   "source": [
    "b1 = np.zeros((3,4))\n",
    "print(b1)\n",
    "print(b1.dtype)\n",
    "print(b1.size)\n",
    "print(b1.shape)\n",
    "print(b1.ndim)"
   ]
  },
  {
   "cell_type": "code",
   "execution_count": 23,
   "id": "2a779229",
   "metadata": {},
   "outputs": [
    {
     "name": "stdout",
     "output_type": "stream",
     "text": [
      "[[0 0 0]\n",
      " [0 0 0]\n",
      " [0 0 0]]\n"
     ]
    }
   ],
   "source": [
    "b2=np.zeros((3,3),dtype='int')\n",
    "print(b2)\n"
   ]
  },
  {
   "cell_type": "code",
   "execution_count": 25,
   "id": "4438827b",
   "metadata": {},
   "outputs": [
    {
     "name": "stdout",
     "output_type": "stream",
     "text": [
      "[[1. 1. 1. 1.]\n",
      " [1. 1. 1. 1.]\n",
      " [1. 1. 1. 1.]]\n",
      "float64\n",
      "12\n",
      "(3, 4)\n",
      "2\n"
     ]
    }
   ],
   "source": [
    "# ones\n",
    "c1 = np.ones((3,4))\n",
    "print(c1)\n",
    "print(c1.dtype)\n",
    "print(c1.size)\n",
    "print(c1.shape)\n",
    "print(c1.ndim)"
   ]
  },
  {
   "cell_type": "code",
   "execution_count": 26,
   "id": "7cd0b6f6",
   "metadata": {},
   "outputs": [
    {
     "name": "stdout",
     "output_type": "stream",
     "text": [
      "[[1 1 1]\n",
      " [1 1 1]\n",
      " [1 1 1]]\n"
     ]
    }
   ],
   "source": [
    "c2=np.ones((3,3),dtype='int')\n",
    "print(c2)\n"
   ]
  },
  {
   "cell_type": "code",
   "execution_count": 28,
   "id": "d2a0cb79",
   "metadata": {},
   "outputs": [
    {
     "name": "stdout",
     "output_type": "stream",
     "text": [
      "[ 5  2  4  9  6  7  8  9  1 10  8  9]\n",
      "[[ 5  2  4  9]\n",
      " [ 6  7  8  9]\n",
      " [ 1 10  8  9]]\n"
     ]
    }
   ],
   "source": [
    "# reshape\n",
    "d1 =np.array([5,2,4,9,6,7,8,9,1,10,8,9])\n",
    "print(d1)\n",
    "d =d1.reshape(3,4)\n",
    "print(d)"
   ]
  },
  {
   "cell_type": "code",
   "execution_count": 30,
   "id": "a51ad612",
   "metadata": {},
   "outputs": [
    {
     "name": "stdout",
     "output_type": "stream",
     "text": [
      "[[5 6 3 7]\n",
      " [8 9 7 9]]\n"
     ]
    }
   ],
   "source": [
    "d2 =np.array([5,6,3,7,8,9,7,9]).reshape(2,4)\n",
    "print(d2)\n",
    "\n"
   ]
  },
  {
   "cell_type": "code",
   "execution_count": 39,
   "id": "918fda98",
   "metadata": {},
   "outputs": [
    {
     "name": "stdout",
     "output_type": "stream",
     "text": [
      "[25 36 56 56]\n"
     ]
    }
   ],
   "source": [
    "a =np.array([5,6,8,7])\n",
    "b =np.array([5,6,7,8])\n",
    "print(a*b)\n"
   ]
  },
  {
   "cell_type": "code",
   "execution_count": 36,
   "id": "a654fb6f",
   "metadata": {},
   "outputs": [
    {
     "name": "stdout",
     "output_type": "stream",
     "text": [
      "[ 2.          4.66666667  7.33333333 10.        ]\n",
      "float64\n",
      "4\n",
      "(4,)\n",
      "1\n"
     ]
    }
   ],
   "source": [
    "# linspace \n",
    "\n",
    "e1 = np.linspace(2,10,4)\n",
    "print(e1)\n",
    "print(e1.dtype)\n",
    "print(e1.size)\n",
    "print(e1.shape)\n",
    "print(e1.ndim)\n",
    "\n"
   ]
  },
  {
   "cell_type": "code",
   "execution_count": 37,
   "id": "9b452728",
   "metadata": {},
   "outputs": [
    {
     "name": "stdout",
     "output_type": "stream",
     "text": [
      "[10 14 18 23 27 32 36 41 45 50]\n"
     ]
    }
   ],
   "source": [
    "e2 = np.linspace(10,50,10,dtype ='int')\n",
    "print(e2)"
   ]
  },
  {
   "cell_type": "code",
   "execution_count": 40,
   "id": "551871a7",
   "metadata": {},
   "outputs": [
    {
     "name": "stdout",
     "output_type": "stream",
     "text": [
      "[  1  12  23  34  45  56  67  78  89 100]\n"
     ]
    }
   ],
   "source": [
    "e3 = np.linspace(1,100,10,dtype =int)\n",
    "print(e3)"
   ]
  },
  {
   "cell_type": "code",
   "execution_count": 47,
   "id": "10b65234",
   "metadata": {},
   "outputs": [
    {
     "name": "stdout",
     "output_type": "stream",
     "text": [
      "[2 7 8 9 5]\n",
      "[2 7 8 9 5]\n",
      "[8 7 8 9 5]\n",
      "[2 7 8 9 5]\n"
     ]
    }
   ],
   "source": [
    "# copy\n",
    "a =np.array([2,7,8,9,5])\n",
    "a1 = a.copy()\n",
    "print(a)\n",
    "print(a1)\n",
    "a[0]=8\n",
    "print(a)\n",
    "print(a1)"
   ]
  },
  {
   "cell_type": "code",
   "execution_count": 48,
   "id": "ce0cff3d",
   "metadata": {},
   "outputs": [
    {
     "name": "stdout",
     "output_type": "stream",
     "text": [
      "[2 7 8 9 5]\n",
      "[2 7 8 9 5]\n",
      "[8 7 8 9 5]\n",
      "[8 7 8 9 5]\n"
     ]
    }
   ],
   "source": [
    "# view\n",
    "\n",
    "a =np.array([2,7,8,9,5])\n",
    "a1 = a.view()\n",
    "print(a)\n",
    "print(a1)\n",
    "a[0]=8\n",
    "print(a)\n",
    "print(a1)"
   ]
  },
  {
   "cell_type": "code",
   "execution_count": null,
   "id": "6dbe4216",
   "metadata": {},
   "outputs": [],
   "source": [
    "# Random\n",
    "# np.random.random"
   ]
  },
  {
   "cell_type": "code",
   "execution_count": 54,
   "id": "6308705a",
   "metadata": {},
   "outputs": [
    {
     "name": "stdout",
     "output_type": "stream",
     "text": [
      "[[0.9019277  0.90022142 0.99110262 0.21353247]\n",
      " [0.32979306 0.56667565 0.01585441 0.92499039]\n",
      " [0.26905706 0.54916995 0.58099216 0.62836624]]\n",
      "[[[0.39487511 0.66602474]\n",
      "  [0.64820556 0.03565531]\n",
      "  [0.57707012 0.59786379]\n",
      "  [0.07196192 0.05355831]]\n",
      "\n",
      " [[0.44969739 0.02130741]\n",
      "  [0.4170649  0.67090713]\n",
      "  [0.14800754 0.02756916]\n",
      "  [0.69927624 0.0961885 ]]\n",
      "\n",
      " [[0.68143225 0.51866615]\n",
      "  [0.4391519  0.91289656]\n",
      "  [0.07691053 0.484707  ]\n",
      "  [0.56254989 0.90473367]]]\n"
     ]
    }
   ],
   "source": [
    "x = np.random.random((3,4))\n",
    "print(x)\n",
    "x1 = np.random.random((3,4,2))\n",
    "print(x1)"
   ]
  },
  {
   "cell_type": "code",
   "execution_count": null,
   "id": "0bdfaf40",
   "metadata": {},
   "outputs": [],
   "source": [
    "# np.random.randint"
   ]
  },
  {
   "cell_type": "code",
   "execution_count": 57,
   "id": "f637908a",
   "metadata": {},
   "outputs": [
    {
     "name": "stdout",
     "output_type": "stream",
     "text": [
      "[17 13 10 15  7]\n"
     ]
    }
   ],
   "source": [
    "y = np.random.randint(2,20,5)\n",
    "print(y)"
   ]
  },
  {
   "cell_type": "code",
   "execution_count": 58,
   "id": "9fdf4ce9",
   "metadata": {},
   "outputs": [
    {
     "name": "stdout",
     "output_type": "stream",
     "text": [
      "[23  8 15 46 42 13  7 11 38  6 39 43 27 46 12 24 30 12 31 27]\n"
     ]
    }
   ],
   "source": [
    "y1 = np.random.randint(5,50,20)\n",
    "print(y1)"
   ]
  },
  {
   "cell_type": "code",
   "execution_count": null,
   "id": "1fbb835d",
   "metadata": {},
   "outputs": [],
   "source": [
    "# np.random.randn"
   ]
  },
  {
   "cell_type": "code",
   "execution_count": 62,
   "id": "a86ffc85",
   "metadata": {},
   "outputs": [
    {
     "name": "stdout",
     "output_type": "stream",
     "text": [
      "[[ 0.91565878  0.14846121  1.48365372 -0.18368817 -1.40572176  0.79441985\n",
      "   1.74178425  0.31819716  0.57182253 -0.77153716]\n",
      " [-0.75389896  0.56381174 -0.14030508 -0.95842861  1.38893107 -0.04265525\n",
      "  -0.53728892 -0.20944156 -0.24555173  0.95290146]]\n"
     ]
    }
   ],
   "source": [
    "z1 =np.random.randn(2,10)\n",
    "print(z1)"
   ]
  },
  {
   "cell_type": "code",
   "execution_count": 63,
   "id": "016cf7da",
   "metadata": {},
   "outputs": [
    {
     "name": "stdout",
     "output_type": "stream",
     "text": [
      "[4 5 1 9]\n"
     ]
    }
   ],
   "source": [
    "# np.random.choice\n",
    "\n",
    "z2 = np.random.choice([4,5,6,6,7,9,1,5],size=4)\n",
    "print(z2)"
   ]
  }
 ],
 "metadata": {
  "kernelspec": {
   "display_name": "Python 3 (ipykernel)",
   "language": "python",
   "name": "python3"
  },
  "language_info": {
   "codemirror_mode": {
    "name": "ipython",
    "version": 3
   },
   "file_extension": ".py",
   "mimetype": "text/x-python",
   "name": "python",
   "nbconvert_exporter": "python",
   "pygments_lexer": "ipython3",
   "version": "3.11.3"
  }
 },
 "nbformat": 4,
 "nbformat_minor": 5
}
