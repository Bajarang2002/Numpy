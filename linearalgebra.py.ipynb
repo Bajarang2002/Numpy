{
 "cells": [
  {
   "cell_type": "code",
   "execution_count": 2,
   "id": "d9e5f673",
   "metadata": {},
   "outputs": [
    {
     "name": "stdout",
     "output_type": "stream",
     "text": [
      "[[1 2 3]\n",
      " [2 3 4]\n",
      " [4 5 3]]\n",
      "[20 27 40]\n",
      "[-5.66666667 12.33333333  0.33333333]\n"
     ]
    }
   ],
   "source": [
    "# Linear algebra\n",
    "import numpy as np\n",
    "a = np.array([[1,2,3],[2,3,4],[4,5,3]])\n",
    "b = np.array([20,27,40])\n",
    "print(a)\n",
    "print(b)\n",
    "res = np.linalg.solve(a,b)\n",
    "print(res)\n"
   ]
  },
  {
   "cell_type": "code",
   "execution_count": 8,
   "id": "01cef678",
   "metadata": {},
   "outputs": [
    {
     "name": "stdout",
     "output_type": "stream",
     "text": [
      "[[1 2]\n",
      " [3 4]]\n",
      "[18 20]\n",
      "[-16.  17.]\n"
     ]
    }
   ],
   "source": [
    "a = np.array([[1,2],[3,4]])\n",
    "b = np.array([18,20])\n",
    "print(a)\n",
    "print(b)\n",
    "res =np.linalg.solve(a,b)\n",
    "print(res)"
   ]
  },
  {
   "cell_type": "code",
   "execution_count": 9,
   "id": "2b80badf",
   "metadata": {},
   "outputs": [
    {
     "name": "stdout",
     "output_type": "stream",
     "text": [
      "[[1 2 3]\n",
      " [2 3 4]\n",
      " [4 5 3]]\n",
      "[[5 6 7]\n",
      " [2 3 4]\n",
      " [6 7 8]]\n",
      "[[27 33 39]\n",
      " [40 49 58]\n",
      " [48 60 72]]\n"
     ]
    }
   ],
   "source": [
    "# Dot product\n",
    "\n",
    "a = np.array([[1,2,3],[2,3,4],[4,5,3]])\n",
    "b =np.array([[5,6,7],[2,3,4],[6,7,8]])\n",
    "print(a)\n",
    "print(b)\n",
    "res = np.dot(a,b)\n",
    "print(res)"
   ]
  },
  {
   "cell_type": "code",
   "execution_count": 10,
   "id": "9b199f31",
   "metadata": {},
   "outputs": [
    {
     "name": "stdout",
     "output_type": "stream",
     "text": [
      "[[1 2]\n",
      " [3 4]]\n",
      "[[-2.   1. ]\n",
      " [ 1.5 -0.5]]\n"
     ]
    }
   ],
   "source": [
    "# matrix inverse\n",
    "\n",
    "q = np.array([[1,2],[3,4]])\n",
    "print(q)\n",
    "res = np.linalg.inv(q)\n",
    "print(res)"
   ]
  },
  {
   "cell_type": "code",
   "execution_count": 11,
   "id": "86b32b40",
   "metadata": {},
   "outputs": [
    {
     "name": "stdout",
     "output_type": "stream",
     "text": [
      "[[1.0000000e+00 0.0000000e+00]\n",
      " [8.8817842e-16 1.0000000e+00]]\n"
     ]
    }
   ],
   "source": [
    "r1 = np.dot(q,res)\n",
    "print(r1)"
   ]
  },
  {
   "cell_type": "code",
   "execution_count": 5,
   "id": "b58d9397",
   "metadata": {},
   "outputs": [
    {
     "name": "stdout",
     "output_type": "stream",
     "text": [
      "[[4 2]\n",
      " [3 4]]\n",
      "Determinant of matrix is: 10\n",
      "10.000000000000002\n"
     ]
    }
   ],
   "source": [
    "# Determinant\n",
    "\n",
    "q = np.array([[4,2],[3,4]])\n",
    "print(q)\n",
    "Det = np.linalg.det(q)\n",
    "print(\"Determinant of matrix is:\",round(Det))\n",
    "print(Det)"
   ]
  },
  {
   "cell_type": "code",
   "execution_count": 18,
   "id": "d33581ce",
   "metadata": {},
   "outputs": [
    {
     "name": "stdout",
     "output_type": "stream",
     "text": [
      "[[1 2 3]\n",
      " [2 3 4]\n",
      " [4 5 3]]\n",
      "Trace of matrix: 7\n"
     ]
    }
   ],
   "source": [
    "# Trace\n",
    "\n",
    "a = np.array([[1,2,3],[2,3,4],[4,5,3]])\n",
    "print(a)\n",
    "Trace = np.trace(a)\n",
    "print(\"Trace of matrix:\",Trace)"
   ]
  },
  {
   "cell_type": "code",
   "execution_count": 19,
   "id": "64944c40",
   "metadata": {},
   "outputs": [
    {
     "name": "stdout",
     "output_type": "stream",
     "text": [
      "[[1 2 3]\n",
      " [2 3 4]\n",
      " [4 5 3]]\n",
      "Eigen value: [ 9.29420244 -0.15057759 -2.14362484]\n",
      "Eigen vector: [[-0.39717242 -0.70822963 -0.47325443]\n",
      " [-0.57881098  0.68186461 -0.41871397]\n",
      " [-0.71220216 -0.18295203  0.7750541 ]]\n"
     ]
    }
   ],
   "source": [
    "# Eigen value Eigen vector\n",
    "\n",
    "a = np.array([[1,2,3],[2,3,4],[4,5,3]])\n",
    "print(a)\n",
    "eig_value,eig_vector = np.linalg.eig(a)\n",
    "print(\"Eigen value:\",eig_value)\n",
    "print(\"Eigen vector:\",eig_vector)"
   ]
  },
  {
   "cell_type": "code",
   "execution_count": null,
   "id": "13ebc168",
   "metadata": {},
   "outputs": [],
   "source": []
  }
 ],
 "metadata": {
  "kernelspec": {
   "display_name": "Python 3 (ipykernel)",
   "language": "python",
   "name": "python3"
  },
  "language_info": {
   "codemirror_mode": {
    "name": "ipython",
    "version": 3
   },
   "file_extension": ".py",
   "mimetype": "text/x-python",
   "name": "python",
   "nbconvert_exporter": "python",
   "pygments_lexer": "ipython3",
   "version": "3.11.3"
  }
 },
 "nbformat": 4,
 "nbformat_minor": 5
}
